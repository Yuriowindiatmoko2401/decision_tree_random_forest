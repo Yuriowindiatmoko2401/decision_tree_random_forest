{
 "cells": [
  {
   "cell_type": "markdown",
   "metadata": {},
   "source": [
    "bisa di uncomment jika belum terinstall\n",
    "[dokumentasi](https://github.com/JustGlowing/minisom)"
   ]
  },
  {
   "cell_type": "code",
   "execution_count": null,
   "metadata": {},
   "outputs": [],
   "source": [
    "# !pip install minisom"
   ]
  },
  {
   "cell_type": "code",
   "execution_count": 2,
   "metadata": {},
   "outputs": [],
   "source": [
    "import numpy as np # library untuk perhitungan matematis dan array\n",
    "from matplotlib import pyplot as plt # library untuk plotting\n",
    "from matplotlib import patches as patches"
   ]
  },
  {
   "cell_type": "code",
   "execution_count": 3,
   "metadata": {},
   "outputs": [],
   "source": [
    "def generate_data():\n",
    "    # use random colours\n",
    "    raw_data = np.random.randint(0, 255, (3, 100))\n",
    "\n",
    "    data = raw_data / raw_data.max()\n",
    "    return data"
   ]
  },
  {
   "cell_type": "code",
   "execution_count": 4,
   "metadata": {},
   "outputs": [
    {
     "data": {
      "text/plain": [
       "array([[224, 235, 209,  63, 104,  43,  89,  90, 220,  66, 171, 123, 125,\n",
       "         12,  50, 144, 197, 212,  30, 130, 105, 160,  97, 174,   2,  88,\n",
       "         43,  89, 102, 128, 220,  17, 165, 207, 196,  65, 170, 165, 188,\n",
       "        139, 122, 230, 201, 228, 108, 195, 172, 217, 201, 210, 200, 127,\n",
       "        156, 147,  50,   1,  36, 120,  57, 199, 235, 221, 221, 158, 153,\n",
       "        134, 134,  43,  77, 195, 180, 141,  12,  18, 223, 126, 161, 244,\n",
       "        223,  30, 166, 254, 232, 178, 241,  89, 143, 247,  25,  89, 179,\n",
       "         58, 197, 211,  12, 236,  48, 167,   5, 223],\n",
       "       [231, 150, 234,  62, 239,  93, 197, 137, 149,  88, 253,  85,  57,\n",
       "        251, 163, 147, 110, 163,  60,  82,  64,  47,  20,  63, 143,  15,\n",
       "        107,  59, 223, 214,  97, 235, 191, 184,  62,  42,  58, 239, 133,\n",
       "        235, 223,  44,   8, 229, 104, 246,  99,  99, 254,  33, 100, 253,\n",
       "        171, 170,  67,  84, 207,   2,  74,  57,  98, 226, 196,  98,  30,\n",
       "        137, 167, 218, 113,  50, 160,   0, 121, 124,  19, 102, 219, 222,\n",
       "        190, 185, 165,  22,  84, 205, 224,  73,  23, 212,  32, 125, 191,\n",
       "        132, 169, 126, 177, 151, 185,  22, 236, 111],\n",
       "       [132,  10, 171, 118, 216,  69,  57,  82,  80,  65,  89,  49,  11,\n",
       "        241, 136, 193,  75, 175, 120, 150,  29, 145, 221, 250,   8, 189,\n",
       "        193, 218, 235, 155, 166, 162, 239, 227, 250,  78,   2,   6, 197,\n",
       "         53,  92, 251, 179, 114, 210,  73, 200,  16, 104, 217, 162,  27,\n",
       "        228,  12, 200, 193,  77,  27, 120, 129, 243,  81,  41, 206,  15,\n",
       "        252,  60, 173,  79, 194,  92, 246,  74,  70, 166, 247, 232,  38,\n",
       "         98, 247,  33, 108,  78, 170,  14,  90, 246, 194, 118,  57, 202,\n",
       "         13,  51, 223, 123, 247, 223, 128, 187, 115]])"
      ]
     },
     "execution_count": 4,
     "metadata": {},
     "output_type": "execute_result"
    }
   ],
   "source": [
    "raw_data = np.random.randint(0, 255, (3, 100))\n",
    "raw_data"
   ]
  },
  {
   "cell_type": "code",
   "execution_count": 12,
   "metadata": {},
   "outputs": [
    {
     "data": {
      "text/plain": [
       "(3, 100)"
      ]
     },
     "execution_count": 12,
     "metadata": {},
     "output_type": "execute_result"
    }
   ],
   "source": [
    "np.shape(raw_data)"
   ]
  },
  {
   "cell_type": "code",
   "execution_count": 5,
   "metadata": {},
   "outputs": [
    {
     "data": {
      "text/plain": [
       "254"
      ]
     },
     "execution_count": 5,
     "metadata": {},
     "output_type": "execute_result"
    }
   ],
   "source": [
    "raw_data.max()"
   ]
  },
  {
   "cell_type": "code",
   "execution_count": 6,
   "metadata": {},
   "outputs": [
    {
     "data": {
      "text/plain": [
       "0"
      ]
     },
     "execution_count": 6,
     "metadata": {},
     "output_type": "execute_result"
    }
   ],
   "source": [
    "raw_data.min()"
   ]
  },
  {
   "cell_type": "code",
   "execution_count": 7,
   "metadata": {},
   "outputs": [],
   "source": [
    "data = raw_data / raw_data.max()"
   ]
  },
  {
   "cell_type": "code",
   "execution_count": 13,
   "metadata": {},
   "outputs": [
    {
     "data": {
      "text/plain": [
       "(3, 100)"
      ]
     },
     "execution_count": 13,
     "metadata": {},
     "output_type": "execute_result"
    }
   ],
   "source": [
    "np.shape(data)"
   ]
  },
  {
   "cell_type": "code",
   "execution_count": 14,
   "metadata": {},
   "outputs": [
    {
     "data": {
      "text/plain": [
       "1.0"
      ]
     },
     "execution_count": 14,
     "metadata": {},
     "output_type": "execute_result"
    }
   ],
   "source": [
    "data.max()"
   ]
  },
  {
   "cell_type": "code",
   "execution_count": 15,
   "metadata": {},
   "outputs": [
    {
     "data": {
      "text/plain": [
       "0.0"
      ]
     },
     "execution_count": 15,
     "metadata": {},
     "output_type": "execute_result"
    }
   ],
   "source": [
    "data.min()"
   ]
  },
  {
   "cell_type": "code",
   "execution_count": null,
   "metadata": {},
   "outputs": [],
   "source": []
  }
 ],
 "metadata": {
  "kernelspec": {
   "display_name": "Python 3",
   "language": "python",
   "name": "python3"
  },
  "language_info": {
   "codemirror_mode": {
    "name": "ipython",
    "version": 3
   },
   "file_extension": ".py",
   "mimetype": "text/x-python",
   "name": "python",
   "nbconvert_exporter": "python",
   "pygments_lexer": "ipython3",
   "version": "3.6.5"
  }
 },
 "nbformat": 4,
 "nbformat_minor": 2
}
